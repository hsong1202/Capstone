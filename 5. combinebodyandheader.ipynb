{
 "cells": [
  {
   "cell_type": "code",
   "execution_count": 1,
   "metadata": {},
   "outputs": [],
   "source": [
    "import os\n",
    "import csv\n",
    "\n",
    "combinedCSVs_folder = './combined'\n",
    "combinedCSV_file = './combined/combinedcsv.csv'\n",
    "\n",
    "filelist = ['header.csv','combinedCSVs_noheader.csv']\n",
    "\n",
    "combinedCSVsFinal_file = './combined/combinedCSVs_wHeader.csv'\n",
    "\n",
    "csvdata = open(combinedCSVsFinal_file, 'w', newline='')\n",
    "writer = csv.writer(csvdata)\n",
    "\n",
    "for filename in filelist:\n",
    "    path = os.path.join(combinedCSVs_folder, filename)\n",
    "    with open(path, 'r') as files:\n",
    "        reader = csv.reader(files)\n",
    "        writer.writerows(reader)\n",
    "\n",
    "csvdata.close()\n"
   ]
  }
 ],
 "metadata": {
  "kernelspec": {
   "display_name": "Python 3",
   "language": "python",
   "name": "python3"
  },
  "language_info": {
   "codemirror_mode": {
    "name": "ipython",
    "version": 3
   },
   "file_extension": ".py",
   "mimetype": "text/x-python",
   "name": "python",
   "nbconvert_exporter": "python",
   "pygments_lexer": "ipython3",
   "version": "3.11.3"
  },
  "orig_nbformat": 4
 },
 "nbformat": 4,
 "nbformat_minor": 2
}
