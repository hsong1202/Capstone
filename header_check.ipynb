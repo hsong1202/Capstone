{
 "cells": [
  {
   "cell_type": "code",
   "execution_count": 11,
   "metadata": {},
   "outputs": [],
   "source": [
    "import os\n",
    "import csv\n",
    "import pandas as pd\n",
    "\n",
    "modified_csv_folder = './modified/'\n",
    "combined = './combined/'\n",
    "modifiedfiles = os.listdir(modified_csv_folder)\n",
    "header_path = os.path.join(combined, 'header_check.csv')\n",
    "\n",
    "\n",
    "hwriter = open(header_path, 'w', newline='')\n",
    "writer = csv.writer(hwriter)\n",
    "for file in modifiedfiles:\n",
    "    modifiedfiles_path = os.path.join(modified_csv_folder,file)\n",
    "    with open(modifiedfiles_path, 'r') as hreader:\n",
    "        header = csv.reader(hreader)\n",
    "        header = list(header)\n",
    "        header[0].append(file)\n",
    "        header = header[0:1]\n",
    "        writer.writerows(header)\n",
    "hwriter.close()\n",
    "\n",
    "\n",
    "\n",
    "        # print(len(header[0]))\n",
    "        # print(header[0])\n",
    "        # for row in header[0]:\n",
    "        #     print(f\"{counter}: {row}\")\n",
    "        #     counter = counter+1\n",
    "\n"
   ]
  }
 ],
 "metadata": {
  "kernelspec": {
   "display_name": "Python 3",
   "language": "python",
   "name": "python3"
  },
  "language_info": {
   "codemirror_mode": {
    "name": "ipython",
    "version": 3
   },
   "file_extension": ".py",
   "mimetype": "text/x-python",
   "name": "python",
   "nbconvert_exporter": "python",
   "pygments_lexer": "ipython3",
   "version": "3.11.3"
  },
  "orig_nbformat": 4
 },
 "nbformat": 4,
 "nbformat_minor": 2
}
