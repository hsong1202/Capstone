{
 "cells": [
  {
   "cell_type": "code",
   "execution_count": 6,
   "metadata": {},
   "outputs": [
    {
     "name": "stdout",
     "output_type": "stream",
     "text": [
      "['GSAQISales2021_modified.csv', 'GSAQISales2022_modified.csv', 'header.csv', 'QISales2005_modified.csv', 'QISales2006_modified.csv', 'QISales2007_modified.csv', 'QISales2008_modified.csv', 'QISales2009_modified.csv', 'QISales2010_modified.csv', 'QISales2011_modified.csv', 'QISales2012_modified.csv', 'RDEQISales2013_modified.csv', 'RDEQISales2014_modified.csv', 'RDEQISales2015_modified.csv', 'RDEQISales2016_modified.csv', 'RDEQISales2017_modified.csv', 'RDEQISales2018_modified.csv']\n"
     ]
    }
   ],
   "source": [
    "import os\n",
    "import csv\n",
    "\n",
    "#directory for modified folder\n",
    "modified_folder = './modified'\n",
    "\n",
    "#get a list of all of the files within modifield folder\n",
    "modified_files = os.listdir(modified_folder)\n",
    "\n",
    "#print a list of all of the files within modified files folder\n",
    "print(modified_files)\n",
    "\n",
    "#combined file directory\n",
    "combinedCSV_file = './combined/combinedCSVs_noheader.csv'\n",
    "\n",
    "#open csv writer\n",
    "combinedfile = open(combinedCSV_file, 'w', newline='')\n",
    "writer = csv.writer(combinedfile)\n",
    "\n",
    "#iterate through the modified files within modified folder\n",
    "for file in modified_files:\n",
    "\n",
    "    #iterate through modified_files\n",
    "    modified_files_path = os.path.join(modified_folder, file)\n",
    "    \n",
    "    #create a reading object to input\n",
    "    with open(modified_files_path, 'r') as inputfile:\n",
    "        #input rows into the reader\n",
    "        reader = csv.reader(inputfile)\n",
    "        #turn reader object to list\n",
    "        reader = list(reader)\n",
    "        #remove header\n",
    "        reader = reader[1:]\n",
    "        #writerows\n",
    "        writer.writerows(reader)\n",
    "#close writer\n",
    "combinedfile.close()"
   ]
  }
 ],
 "metadata": {
  "kernelspec": {
   "display_name": "Python 3",
   "language": "python",
   "name": "python3"
  },
  "language_info": {
   "codemirror_mode": {
    "name": "ipython",
    "version": 3
   },
   "file_extension": ".py",
   "mimetype": "text/x-python",
   "name": "python",
   "nbconvert_exporter": "python",
   "pygments_lexer": "ipython3",
   "version": "3.11.3"
  },
  "orig_nbformat": 4
 },
 "nbformat": 4,
 "nbformat_minor": 2
}
