{
 "cells": [
  {
   "cell_type": "code",
   "execution_count": 21,
   "metadata": {},
   "outputs": [],
   "source": [
    "import os\n",
    "import csv\n",
    "\n",
    "modified_folder = './modified/'\n",
    "combined_folder = './combined/'\n",
    "header = 'header.csv'\n",
    "\n",
    "modified_files = os.listdir(modified_folder)\n",
    "# print(modified_files[0])\n",
    "\n",
    "\n",
    "#save the file to this directory\n",
    "header_path = os.path.join(combined_folder, header)\n",
    "\n",
    "\n",
    "csv_files = os.path.join(modified_folder, modified_files[0])\n",
    "\n",
    "header_output = open(header_path, 'w', newline = '')\n",
    "headwriter = csv.writer(header_output)\n",
    "\n",
    "with open(csv_files, 'r') as reader:\n",
    "    header = csv.reader(reader)\n",
    "    headerlist = list(header)\n",
    "    headerlist = headerlist[0]\n",
    "    headwriter.writerow(headerlist)\n",
    "\n",
    "header_output.close()\n"
   ]
  }
 ],
 "metadata": {
  "kernelspec": {
   "display_name": "Python 3",
   "language": "python",
   "name": "python3"
  },
  "language_info": {
   "codemirror_mode": {
    "name": "ipython",
    "version": 3
   },
   "file_extension": ".py",
   "mimetype": "text/x-python",
   "name": "python",
   "nbconvert_exporter": "python",
   "pygments_lexer": "ipython3",
   "version": "3.11.3"
  },
  "orig_nbformat": 4
 },
 "nbformat": 4,
 "nbformat_minor": 2
}
