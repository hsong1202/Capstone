{
 "cells": [
  {
   "cell_type": "code",
   "execution_count": 3,
   "metadata": {},
   "outputs": [],
   "source": [
    "import os\n",
    "import csv\n",
    "\n",
    "csv_folder = './CSV/'\n",
    "csvlist = os.listdir(csv_folder)\n",
    "\n",
    "modified_csv_folder = './modified/'\n",
    "for file in csvlist:\n",
    "    if file.endswith('csv'):\n",
    "        file_path = os.path.join(csv_folder, file)\n",
    "        if file.startswith('GSA'):\n",
    "            with open(file_path, 'r') as readinput:\n",
    "                reader = csv.reader(readinput)\n",
    "                reader = list(reader)\n",
    "                reader = reader[1:]\n",
    "                for row in reader:\n",
    "                    del row[32]\n",
    "\n",
    "        elif file.startswith('QIS'):\n",
    "            with open(file_path, 'r') as readinput:\n",
    "                reader = csv.reader(readinput)\n",
    "                reader = list(reader)\n",
    "\n",
    "\n",
    "        elif file.startswith('RDE'):\n",
    "            with open(file_path, 'r') as readinput:\n",
    "                reader = csv.reader(readinput)\n",
    "                reader = list(reader)\n",
    "                reader = reader[1:]\n",
    "                # for row in reader:\n",
    "                #     del row[32]\n",
    "\n",
    "        modified_file = file.replace('.csv', '_modified.csv')\n",
    "        modififed_csv_path = os.path.join(modified_csv_folder, modified_file)\n",
    "        output = open(modififed_csv_path, 'w', newline='')\n",
    "        writer = csv.writer(output)\n",
    "        writer.writerows(reader)\n",
    "        output.close()\n",
    "\n"
   ]
  }
 ],
 "metadata": {
  "kernelspec": {
   "display_name": "Python 3",
   "language": "python",
   "name": "python3"
  },
  "language_info": {
   "codemirror_mode": {
    "name": "ipython",
    "version": 3
   },
   "file_extension": ".py",
   "mimetype": "text/x-python",
   "name": "python",
   "nbconvert_exporter": "python",
   "pygments_lexer": "ipython3",
   "version": "3.11.3"
  },
  "orig_nbformat": 4
 },
 "nbformat": 4,
 "nbformat_minor": 2
}
